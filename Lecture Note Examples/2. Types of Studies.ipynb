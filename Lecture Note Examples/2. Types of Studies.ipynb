{
 "cells": [
  {
   "cell_type": "markdown",
   "metadata": {},
   "source": [
    "# 2. Types of Studies"
   ]
  },
  {
   "cell_type": "markdown",
   "metadata": {},
   "source": [
    "### 1. The effect of caffeine and stress on auditory hallucinations in a non-clinical sample"
   ]
  },
  {
   "cell_type": "markdown",
   "metadata": {},
   "source": [
    "The data is taken from:\n",
    "\n",
    "Crowe, S. F., Barot, J., Caldow, S., d’Aspromonte, J., Dell’Orso, J., Di Clemente, A., ... & McKenzie, L. (2011). The effect of caffeine and stress on auditory hallucinations in a non-clinical sample. Personality and Individual Differences, 50(5), 626-630.\n",
    "\n",
    "Here, the error bars represent 95% CI"
   ]
  },
  {
   "cell_type": "code",
   "execution_count": 37,
   "metadata": {},
   "outputs": [
    {
     "data": {
      "image/png": "[encoded data removed]",
      "text/plain": [
       "<Figure size 576x360 with 1 Axes>"
      ]
     },
     "metadata": {
      "needs_background": "light"
     },
     "output_type": "display_data"
    }
   ],
   "source": [
    "import matplotlib.pyplot as plt\n",
    "import numpy as np\n",
    "\n",
    "case = ['LC-LS', 'HC-LS', 'LC-HS', 'HC-HS']\n",
    "false = [1.03, 1.43, 1.04, 3.0]\n",
    "\n",
    "SD = np.array([1.64, 1.34, 1.16, 2.76])\n",
    "n = np.array([35, 14, 27, 16])\n",
    "CI = 1.96 * SD / np.sqrt(n)\n",
    "\n",
    "fig, ax = plt.subplots(figsize=(8,5))\n",
    "ax.spines['right'].set_visible(False)\n",
    "ax.spines['top'].set_visible(False)\n",
    "\n",
    "plt.bar(case, false, align='center', width=0.5, color='gray')\n",
    "plt.xlabel(None)\n",
    "plt.ylabel('Mean False Alarms')\n",
    "plt.ylim(0,5)\n",
    "plt.errorbar(case, false, CI, fmt='k|', ecolor='black')\n",
    "plt.show()"
   ]
  },
  {
   "cell_type": "markdown",
   "metadata": {},
   "source": [
    "### 2. The effect of caffeine and stress on auditory hallucinations in a non-clinical sample"
   ]
  },
  {
   "cell_type": "markdown",
   "metadata": {},
   "source": [
    "Data was not provided for the second plot"
   ]
  },
  {
   "cell_type": "markdown",
   "metadata": {},
   "source": [
    "### 3. Death rate from lung cancer and consumption of tobacco and cigarettes over time in the United Kingdom"
   ]
  },
  {
   "cell_type": "markdown",
   "metadata": {},
   "source": [
    "Only the plot was given in the original paper, so unable to get the original data"
   ]
  }
 ],
 "metadata": {
  "kernelspec": {
   "display_name": "Python 3",
   "language": "python",
   "name": "python3"
  },
  "language_info": {
   "codemirror_mode": {
    "name": "ipython",
    "version": 3
   },
   "file_extension": ".py",
   "mimetype": "text/x-python",
   "name": "python",
   "nbconvert_exporter": "python",
   "pygments_lexer": "ipython3",
   "version": "3.6.8"
  }
 },
 "nbformat": 4,
 "nbformat_minor": 4
}
