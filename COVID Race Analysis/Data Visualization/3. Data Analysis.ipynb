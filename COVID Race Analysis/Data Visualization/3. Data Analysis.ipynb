{
 "cells": [
  {
   "cell_type": "markdown",
   "metadata": {},
   "source": [
    "# 3. COVID Data Visualization\n",
    "\n",
    "In the previous section, we predocued the visuals for the raw COVID data. Here, we will visualize the number of deaths per 100,000 to compare the COVID deaths in different groups."
   ]
  },
  {
   "cell_type": "markdown",
   "metadata": {},
   "source": [
    "## 3-1. Import the required modules"
   ]
  },
  {
   "cell_type": "code",
   "execution_count": 1,
   "metadata": {},
   "outputs": [],
   "source": [
    "import pandas as pd\n",
    "import numpy as np\n",
    "import matplotlib.pyplot as plt"
   ]
  },
  {
   "cell_type": "markdown",
   "metadata": {},
   "source": [
    "## 3-2. Load the dataset"
   ]
  },
  {
   "cell_type": "code",
   "execution_count": 2,
   "metadata": {},
   "outputs": [],
   "source": [
    "data = pd.read_csv('data/race-census.csv')"
   ]
  },
  {
   "cell_type": "code",
   "execution_count": 3,
   "metadata": {},
   "outputs": [
    {
     "data": {
      "text/html": [
       "<div>\n",
       "<style scoped>\n",
       "    .dataframe tbody tr th:only-of-type {\n",
       "        vertical-align: middle;\n",
       "    }\n",
       "\n",
       "    .dataframe tbody tr th {\n",
       "        vertical-align: top;\n",
       "    }\n",
       "\n",
       "    .dataframe thead th {\n",
       "        text-align: right;\n",
       "    }\n",
       "</style>\n",
       "<table border=\"1\" class=\"dataframe\">\n",
       "  <thead>\n",
       "    <tr style=\"text-align: right;\">\n",
       "      <th></th>\n",
       "      <th>Race</th>\n",
       "      <th>Percentage</th>\n",
       "      <th>People</th>\n",
       "    </tr>\n",
       "  </thead>\n",
       "  <tbody>\n",
       "    <tr>\n",
       "      <th>0</th>\n",
       "      <td>White</td>\n",
       "      <td>61.4</td>\n",
       "      <td>197277789</td>\n",
       "    </tr>\n",
       "    <tr>\n",
       "      <th>1</th>\n",
       "      <td>Black</td>\n",
       "      <td>12.3</td>\n",
       "      <td>39445495</td>\n",
       "    </tr>\n",
       "    <tr>\n",
       "      <th>2</th>\n",
       "      <td>Hispanic</td>\n",
       "      <td>17.6</td>\n",
       "      <td>56510571</td>\n",
       "    </tr>\n",
       "    <tr>\n",
       "      <th>3</th>\n",
       "      <td>Asian</td>\n",
       "      <td>5.3</td>\n",
       "      <td>16989540</td>\n",
       "    </tr>\n",
       "    <tr>\n",
       "      <th>4</th>\n",
       "      <td>AIAN</td>\n",
       "      <td>0.7</td>\n",
       "      <td>2098763</td>\n",
       "    </tr>\n",
       "    <tr>\n",
       "      <th>5</th>\n",
       "      <td>NHPI</td>\n",
       "      <td>0.2</td>\n",
       "      <td>515522</td>\n",
       "    </tr>\n",
       "    <tr>\n",
       "      <th>6</th>\n",
       "      <td>Other</td>\n",
       "      <td>2.5</td>\n",
       "      <td>8166727</td>\n",
       "    </tr>\n",
       "  </tbody>\n",
       "</table>\n",
       "</div>"
      ],
      "text/plain": [
       "       Race  Percentage     People\n",
       "0     White        61.4  197277789\n",
       "1     Black        12.3   39445495\n",
       "2  Hispanic        17.6   56510571\n",
       "3     Asian         5.3   16989540\n",
       "4      AIAN         0.7    2098763\n",
       "5      NHPI         0.2     515522\n",
       "6     Other         2.5    8166727"
      ]
     },
     "execution_count": 3,
     "metadata": {},
     "output_type": "execute_result"
    }
   ],
   "source": [
    "data"
   ]
  },
  {
   "cell_type": "markdown",
   "metadata": {},
   "source": [
    "Now we will get the COVID data"
   ]
  },
  {
   "cell_type": "code",
   "execution_count": 4,
   "metadata": {},
   "outputs": [],
   "source": [
    "df = pd.read_csv('data/Race-COVID.csv')\n",
    "\n",
    "total = np.sum(df['Deaths_Total'])\n",
    "white = np.sum(df['Deaths_White'])\n",
    "black = np.sum(df['Deaths_Black'])\n",
    "latin = np.sum(df['Deaths_LatinX'])\n",
    "asian = np.sum(df['Deaths_Asian'])\n",
    "aian = np.sum(df['Deaths_AIAN'])\n",
    "nhpi = np.sum(df['Deaths_NHPI'])\n",
    "unknown = np.sum(df['Deaths_Unknown'])\n",
    "other = total - (white + black + latin + asian + aian + nhpi + unknown)\n",
    "\n",
    "case = np.array([white, black, latin, asian, aian, nhpi, other])"
   ]
  },
  {
   "cell_type": "code",
   "execution_count": 5,
   "metadata": {},
   "outputs": [
    {
     "data": {
      "text/plain": [
       "array([70326., 30648., 23206.,  5510.,  1071.,   168.,  5005.])"
      ]
     },
     "execution_count": 5,
     "metadata": {},
     "output_type": "execute_result"
    }
   ],
   "source": [
    "case"
   ]
  },
  {
   "cell_type": "markdown",
   "metadata": {},
   "source": [
    "Here, case is a list of deaths separated by race/ethnicity. We will include it to our original dataframe."
   ]
  },
  {
   "cell_type": "code",
   "execution_count": 6,
   "metadata": {},
   "outputs": [],
   "source": [
    "data['COVID'] = case"
   ]
  },
  {
   "cell_type": "code",
   "execution_count": 7,
   "metadata": {},
   "outputs": [
    {
     "data": {
      "text/html": [
       "<div>\n",
       "<style scoped>\n",
       "    .dataframe tbody tr th:only-of-type {\n",
       "        vertical-align: middle;\n",
       "    }\n",
       "\n",
       "    .dataframe tbody tr th {\n",
       "        vertical-align: top;\n",
       "    }\n",
       "\n",
       "    .dataframe thead th {\n",
       "        text-align: right;\n",
       "    }\n",
       "</style>\n",
       "<table border=\"1\" class=\"dataframe\">\n",
       "  <thead>\n",
       "    <tr style=\"text-align: right;\">\n",
       "      <th></th>\n",
       "      <th>Race</th>\n",
       "      <th>Percentage</th>\n",
       "      <th>People</th>\n",
       "      <th>COVID</th>\n",
       "    </tr>\n",
       "  </thead>\n",
       "  <tbody>\n",
       "    <tr>\n",
       "      <th>0</th>\n",
       "      <td>White</td>\n",
       "      <td>61.4</td>\n",
       "      <td>197277789</td>\n",
       "      <td>70326.0</td>\n",
       "    </tr>\n",
       "    <tr>\n",
       "      <th>1</th>\n",
       "      <td>Black</td>\n",
       "      <td>12.3</td>\n",
       "      <td>39445495</td>\n",
       "      <td>30648.0</td>\n",
       "    </tr>\n",
       "    <tr>\n",
       "      <th>2</th>\n",
       "      <td>Hispanic</td>\n",
       "      <td>17.6</td>\n",
       "      <td>56510571</td>\n",
       "      <td>23206.0</td>\n",
       "    </tr>\n",
       "    <tr>\n",
       "      <th>3</th>\n",
       "      <td>Asian</td>\n",
       "      <td>5.3</td>\n",
       "      <td>16989540</td>\n",
       "      <td>5510.0</td>\n",
       "    </tr>\n",
       "    <tr>\n",
       "      <th>4</th>\n",
       "      <td>AIAN</td>\n",
       "      <td>0.7</td>\n",
       "      <td>2098763</td>\n",
       "      <td>1071.0</td>\n",
       "    </tr>\n",
       "    <tr>\n",
       "      <th>5</th>\n",
       "      <td>NHPI</td>\n",
       "      <td>0.2</td>\n",
       "      <td>515522</td>\n",
       "      <td>168.0</td>\n",
       "    </tr>\n",
       "    <tr>\n",
       "      <th>6</th>\n",
       "      <td>Other</td>\n",
       "      <td>2.5</td>\n",
       "      <td>8166727</td>\n",
       "      <td>5005.0</td>\n",
       "    </tr>\n",
       "  </tbody>\n",
       "</table>\n",
       "</div>"
      ],
      "text/plain": [
       "       Race  Percentage     People    COVID\n",
       "0     White        61.4  197277789  70326.0\n",
       "1     Black        12.3   39445495  30648.0\n",
       "2  Hispanic        17.6   56510571  23206.0\n",
       "3     Asian         5.3   16989540   5510.0\n",
       "4      AIAN         0.7    2098763   1071.0\n",
       "5      NHPI         0.2     515522    168.0\n",
       "6     Other         2.5    8166727   5005.0"
      ]
     },
     "execution_count": 7,
     "metadata": {},
     "output_type": "execute_result"
    }
   ],
   "source": [
    "data"
   ]
  },
  {
   "cell_type": "markdown",
   "metadata": {},
   "source": [
    "## 3-3. Data Preparation"
   ]
  },
  {
   "cell_type": "markdown",
   "metadata": {},
   "source": [
    "As a next step, divide COVID by people to get proportion of COVID deaths per person."
   ]
  },
  {
   "cell_type": "code",
   "execution_count": 8,
   "metadata": {},
   "outputs": [],
   "source": [
    "data['Percentage'] = data['COVID'] / data['People']"
   ]
  },
  {
   "cell_type": "code",
   "execution_count": 9,
   "metadata": {},
   "outputs": [
    {
     "data": {
      "text/html": [
       "<div>\n",
       "<style scoped>\n",
       "    .dataframe tbody tr th:only-of-type {\n",
       "        vertical-align: middle;\n",
       "    }\n",
       "\n",
       "    .dataframe tbody tr th {\n",
       "        vertical-align: top;\n",
       "    }\n",
       "\n",
       "    .dataframe thead th {\n",
       "        text-align: right;\n",
       "    }\n",
       "</style>\n",
       "<table border=\"1\" class=\"dataframe\">\n",
       "  <thead>\n",
       "    <tr style=\"text-align: right;\">\n",
       "      <th></th>\n",
       "      <th>Race</th>\n",
       "      <th>Percentage</th>\n",
       "      <th>People</th>\n",
       "      <th>COVID</th>\n",
       "    </tr>\n",
       "  </thead>\n",
       "  <tbody>\n",
       "    <tr>\n",
       "      <th>0</th>\n",
       "      <td>White</td>\n",
       "      <td>0.000356</td>\n",
       "      <td>197277789</td>\n",
       "      <td>70326.0</td>\n",
       "    </tr>\n",
       "    <tr>\n",
       "      <th>1</th>\n",
       "      <td>Black</td>\n",
       "      <td>0.000777</td>\n",
       "      <td>39445495</td>\n",
       "      <td>30648.0</td>\n",
       "    </tr>\n",
       "    <tr>\n",
       "      <th>2</th>\n",
       "      <td>Hispanic</td>\n",
       "      <td>0.000411</td>\n",
       "      <td>56510571</td>\n",
       "      <td>23206.0</td>\n",
       "    </tr>\n",
       "    <tr>\n",
       "      <th>3</th>\n",
       "      <td>Asian</td>\n",
       "      <td>0.000324</td>\n",
       "      <td>16989540</td>\n",
       "      <td>5510.0</td>\n",
       "    </tr>\n",
       "    <tr>\n",
       "      <th>4</th>\n",
       "      <td>AIAN</td>\n",
       "      <td>0.000510</td>\n",
       "      <td>2098763</td>\n",
       "      <td>1071.0</td>\n",
       "    </tr>\n",
       "    <tr>\n",
       "      <th>5</th>\n",
       "      <td>NHPI</td>\n",
       "      <td>0.000326</td>\n",
       "      <td>515522</td>\n",
       "      <td>168.0</td>\n",
       "    </tr>\n",
       "    <tr>\n",
       "      <th>6</th>\n",
       "      <td>Other</td>\n",
       "      <td>0.000613</td>\n",
       "      <td>8166727</td>\n",
       "      <td>5005.0</td>\n",
       "    </tr>\n",
       "  </tbody>\n",
       "</table>\n",
       "</div>"
      ],
      "text/plain": [
       "       Race  Percentage     People    COVID\n",
       "0     White    0.000356  197277789  70326.0\n",
       "1     Black    0.000777   39445495  30648.0\n",
       "2  Hispanic    0.000411   56510571  23206.0\n",
       "3     Asian    0.000324   16989540   5510.0\n",
       "4      AIAN    0.000510    2098763   1071.0\n",
       "5      NHPI    0.000326     515522    168.0\n",
       "6     Other    0.000613    8166727   5005.0"
      ]
     },
     "execution_count": 9,
     "metadata": {},
     "output_type": "execute_result"
    }
   ],
   "source": [
    "data"
   ]
  },
  {
   "cell_type": "markdown",
   "metadata": {},
   "source": [
    "These percentages are really small and it might be difficult to get an intuition of these numbers. It might be better to multiply these numbers by 100,000 to get number of deaths per 100,000 people."
   ]
  },
  {
   "cell_type": "code",
   "execution_count": 10,
   "metadata": {},
   "outputs": [],
   "source": [
    "data['Per100,000'] = data['Percentage'] * 100000"
   ]
  },
  {
   "cell_type": "code",
   "execution_count": 11,
   "metadata": {},
   "outputs": [
    {
     "data": {
      "text/html": [
       "<div>\n",
       "<style scoped>\n",
       "    .dataframe tbody tr th:only-of-type {\n",
       "        vertical-align: middle;\n",
       "    }\n",
       "\n",
       "    .dataframe tbody tr th {\n",
       "        vertical-align: top;\n",
       "    }\n",
       "\n",
       "    .dataframe thead th {\n",
       "        text-align: right;\n",
       "    }\n",
       "</style>\n",
       "<table border=\"1\" class=\"dataframe\">\n",
       "  <thead>\n",
       "    <tr style=\"text-align: right;\">\n",
       "      <th></th>\n",
       "      <th>Race</th>\n",
       "      <th>Percentage</th>\n",
       "      <th>People</th>\n",
       "      <th>COVID</th>\n",
       "      <th>Per100,000</th>\n",
       "    </tr>\n",
       "  </thead>\n",
       "  <tbody>\n",
       "    <tr>\n",
       "      <th>0</th>\n",
       "      <td>White</td>\n",
       "      <td>0.000356</td>\n",
       "      <td>197277789</td>\n",
       "      <td>70326.0</td>\n",
       "      <td>35.648210</td>\n",
       "    </tr>\n",
       "    <tr>\n",
       "      <th>1</th>\n",
       "      <td>Black</td>\n",
       "      <td>0.000777</td>\n",
       "      <td>39445495</td>\n",
       "      <td>30648.0</td>\n",
       "      <td>77.697086</td>\n",
       "    </tr>\n",
       "    <tr>\n",
       "      <th>2</th>\n",
       "      <td>Hispanic</td>\n",
       "      <td>0.000411</td>\n",
       "      <td>56510571</td>\n",
       "      <td>23206.0</td>\n",
       "      <td>41.064883</td>\n",
       "    </tr>\n",
       "    <tr>\n",
       "      <th>3</th>\n",
       "      <td>Asian</td>\n",
       "      <td>0.000324</td>\n",
       "      <td>16989540</td>\n",
       "      <td>5510.0</td>\n",
       "      <td>32.431720</td>\n",
       "    </tr>\n",
       "    <tr>\n",
       "      <th>4</th>\n",
       "      <td>AIAN</td>\n",
       "      <td>0.000510</td>\n",
       "      <td>2098763</td>\n",
       "      <td>1071.0</td>\n",
       "      <td>51.030059</td>\n",
       "    </tr>\n",
       "    <tr>\n",
       "      <th>5</th>\n",
       "      <td>NHPI</td>\n",
       "      <td>0.000326</td>\n",
       "      <td>515522</td>\n",
       "      <td>168.0</td>\n",
       "      <td>32.588328</td>\n",
       "    </tr>\n",
       "    <tr>\n",
       "      <th>6</th>\n",
       "      <td>Other</td>\n",
       "      <td>0.000613</td>\n",
       "      <td>8166727</td>\n",
       "      <td>5005.0</td>\n",
       "      <td>61.285262</td>\n",
       "    </tr>\n",
       "  </tbody>\n",
       "</table>\n",
       "</div>"
      ],
      "text/plain": [
       "       Race  Percentage     People    COVID  Per100,000\n",
       "0     White    0.000356  197277789  70326.0   35.648210\n",
       "1     Black    0.000777   39445495  30648.0   77.697086\n",
       "2  Hispanic    0.000411   56510571  23206.0   41.064883\n",
       "3     Asian    0.000324   16989540   5510.0   32.431720\n",
       "4      AIAN    0.000510    2098763   1071.0   51.030059\n",
       "5      NHPI    0.000326     515522    168.0   32.588328\n",
       "6     Other    0.000613    8166727   5005.0   61.285262"
      ]
     },
     "execution_count": 11,
     "metadata": {},
     "output_type": "execute_result"
    }
   ],
   "source": [
    "data"
   ]
  },
  {
   "cell_type": "markdown",
   "metadata": {},
   "source": [
    "## 3-4. Data Visualization"
   ]
  },
  {
   "cell_type": "code",
   "execution_count": 12,
   "metadata": {},
   "outputs": [
    {
     "data": {
      "image/png": "[encoded data removed]",
      "text/plain": [
       "<Figure size 432x288 with 1 Axes>"
      ]
     },
     "metadata": {
      "needs_background": "light"
     },
     "output_type": "display_data"
    }
   ],
   "source": [
    "case = data['Per100,000']\n",
    "\n",
    "fig = plt.figure()\n",
    "ax = fig.add_axes([0,0,1,1])\n",
    "label = ['White','Black','Latin','Asian','AIAN','NHPI','Other']\n",
    "location = [1,2,3,4,5,6,7,8]\n",
    "ax.bar(label, case, alpha=0.5)\n",
    "ax.set_ylabel('Number of deaths per 100,000')\n",
    "ax.set_xlabel('Race/Ethnicity')\n",
    "#ax.set_ylim(0,78000)\n",
    "ax.set_title('Number of COVID-19 deaths per 100,000 Americans', fontweight=\"bold\", fontsize=15, pad=20)\n",
    "\n",
    "ax.spines['right'].set_visible(False)\n",
    "ax.spines['top'].set_visible(False)\n",
    "\n",
    "for a,b in zip(location, np.round(case, decimals=1)):\n",
    "    plt.text(a-1.25, b+1, str(b), color='b', size=14)\n",
    "    \n",
    "plt.grid(axis='y')\n",
    "\n",
    "plt.show()"
   ]
  },
  {
   "cell_type": "markdown",
   "metadata": {},
   "source": [
    "It seems that white people are less likely to die compared to other groups. As a next step, I will divide the mortality rate for all the groups by the mortality rate for white people to get the relative size for each groups."
   ]
  },
  {
   "cell_type": "code",
   "execution_count": 16,
   "metadata": {},
   "outputs": [],
   "source": [
    "# Extract white data\n",
    "white = data['Percentage'][0]"
   ]
  },
  {
   "cell_type": "code",
   "execution_count": 17,
   "metadata": {},
   "outputs": [],
   "source": [
    "data['Relative'] = data['Percentage'] / white"
   ]
  },
  {
   "cell_type": "code",
   "execution_count": 18,
   "metadata": {},
   "outputs": [
    {
     "data": {
      "text/html": [
       "<div>\n",
       "<style scoped>\n",
       "    .dataframe tbody tr th:only-of-type {\n",
       "        vertical-align: middle;\n",
       "    }\n",
       "\n",
       "    .dataframe tbody tr th {\n",
       "        vertical-align: top;\n",
       "    }\n",
       "\n",
       "    .dataframe thead th {\n",
       "        text-align: right;\n",
       "    }\n",
       "</style>\n",
       "<table border=\"1\" class=\"dataframe\">\n",
       "  <thead>\n",
       "    <tr style=\"text-align: right;\">\n",
       "      <th></th>\n",
       "      <th>Race</th>\n",
       "      <th>Percentage</th>\n",
       "      <th>People</th>\n",
       "      <th>COVID</th>\n",
       "      <th>Per100,000</th>\n",
       "      <th>Relative</th>\n",
       "    </tr>\n",
       "  </thead>\n",
       "  <tbody>\n",
       "    <tr>\n",
       "      <th>0</th>\n",
       "      <td>White</td>\n",
       "      <td>0.000356</td>\n",
       "      <td>197277789</td>\n",
       "      <td>70326.0</td>\n",
       "      <td>35.648210</td>\n",
       "      <td>1.000000</td>\n",
       "    </tr>\n",
       "    <tr>\n",
       "      <th>1</th>\n",
       "      <td>Black</td>\n",
       "      <td>0.000777</td>\n",
       "      <td>39445495</td>\n",
       "      <td>30648.0</td>\n",
       "      <td>77.697086</td>\n",
       "      <td>2.179551</td>\n",
       "    </tr>\n",
       "    <tr>\n",
       "      <th>2</th>\n",
       "      <td>Hispanic</td>\n",
       "      <td>0.000411</td>\n",
       "      <td>56510571</td>\n",
       "      <td>23206.0</td>\n",
       "      <td>41.064883</td>\n",
       "      <td>1.151948</td>\n",
       "    </tr>\n",
       "    <tr>\n",
       "      <th>3</th>\n",
       "      <td>Asian</td>\n",
       "      <td>0.000324</td>\n",
       "      <td>16989540</td>\n",
       "      <td>5510.0</td>\n",
       "      <td>32.431720</td>\n",
       "      <td>0.909771</td>\n",
       "    </tr>\n",
       "    <tr>\n",
       "      <th>4</th>\n",
       "      <td>AIAN</td>\n",
       "      <td>0.000510</td>\n",
       "      <td>2098763</td>\n",
       "      <td>1071.0</td>\n",
       "      <td>51.030059</td>\n",
       "      <td>1.431490</td>\n",
       "    </tr>\n",
       "    <tr>\n",
       "      <th>5</th>\n",
       "      <td>NHPI</td>\n",
       "      <td>0.000326</td>\n",
       "      <td>515522</td>\n",
       "      <td>168.0</td>\n",
       "      <td>32.588328</td>\n",
       "      <td>0.914165</td>\n",
       "    </tr>\n",
       "    <tr>\n",
       "      <th>6</th>\n",
       "      <td>Other</td>\n",
       "      <td>0.000613</td>\n",
       "      <td>8166727</td>\n",
       "      <td>5005.0</td>\n",
       "      <td>61.285262</td>\n",
       "      <td>1.719168</td>\n",
       "    </tr>\n",
       "  </tbody>\n",
       "</table>\n",
       "</div>"
      ],
      "text/plain": [
       "       Race  Percentage     People    COVID  Per100,000  Relative\n",
       "0     White    0.000356  197277789  70326.0   35.648210  1.000000\n",
       "1     Black    0.000777   39445495  30648.0   77.697086  2.179551\n",
       "2  Hispanic    0.000411   56510571  23206.0   41.064883  1.151948\n",
       "3     Asian    0.000324   16989540   5510.0   32.431720  0.909771\n",
       "4      AIAN    0.000510    2098763   1071.0   51.030059  1.431490\n",
       "5      NHPI    0.000326     515522    168.0   32.588328  0.914165\n",
       "6     Other    0.000613    8166727   5005.0   61.285262  1.719168"
      ]
     },
     "execution_count": 18,
     "metadata": {},
     "output_type": "execute_result"
    }
   ],
   "source": [
    "data"
   ]
  },
  {
   "cell_type": "code",
   "execution_count": 22,
   "metadata": {},
   "outputs": [],
   "source": [
    "# Exclude 'Other' from the plot\n",
    "freq = data['Relative'][0:6]"
   ]
  },
  {
   "cell_type": "code",
   "execution_count": 45,
   "metadata": {},
   "outputs": [
    {
     "data": {
      "image/png": "[encoded data removed]",
      "text/plain": [
       "<Figure size 432x288 with 1 Axes>"
      ]
     },
     "metadata": {
      "needs_background": "light"
     },
     "output_type": "display_data"
    }
   ],
   "source": [
    "import matplotlib.pyplot as plt\n",
    "fig = plt.figure()\n",
    "ax = fig.add_axes([0,0,1,1])\n",
    "label = ['White','Black','Hispanic','Asian','AIAN','NHPI']\n",
    "\n",
    "\n",
    "ax.barh(label, freq,color=('#c1ba9d','#733d47','#733d47','#733d47','#733d47','#733d47'))\n",
    "ax.invert_yaxis()\n",
    "ax.spines['right'].set_visible(False)\n",
    "ax.spines['top'].set_visible(False)\n",
    "ax.spines['bottom'].set_visible(False)\n",
    "ax.spines['left'].set_visible(False)\n",
    "ax.get_xaxis().set_visible(False)\n",
    "ax.set_yticklabels(label, size=15)\n",
    "ax.set_title('Relative COVID-19 Death Rates', fontweight=\"bold\", fontsize=20)\n",
    "\n",
    "plt.text(0.8,0,'1.0',color='black',va=\"center\",size=15)\n",
    "plt.text(2,1,'2.2',color='white',va=\"center\",size=15)\n",
    "plt.text(1,2,'1.2',color='white',va=\"center\",size=15)\n",
    "plt.text(0.75,3,'0.9',color='white',va=\"center\",size=15)\n",
    "plt.text(1.25,4,'1.4',color='white',va=\"center\",size=15)\n",
    "plt.text(0.76,5,'0.9',color='white',va=\"center\",size=15)\n",
    "\n",
    "plt.show()"
   ]
  },
  {
   "cell_type": "markdown",
   "metadata": {},
   "source": [
    "As a next step, we will plot how the deaths of different race groups changed with time."
   ]
  },
  {
   "cell_type": "code",
   "execution_count": 46,
   "metadata": {},
   "outputs": [],
   "source": [
    "data = pd.read_csv('data/race-date.csv')"
   ]
  },
  {
   "cell_type": "code",
   "execution_count": 47,
   "metadata": {},
   "outputs": [
    {
     "data": {
      "text/html": [
       "<div>\n",
       "<style scoped>\n",
       "    .dataframe tbody tr th:only-of-type {\n",
       "        vertical-align: middle;\n",
       "    }\n",
       "\n",
       "    .dataframe tbody tr th {\n",
       "        vertical-align: top;\n",
       "    }\n",
       "\n",
       "    .dataframe thead th {\n",
       "        text-align: right;\n",
       "    }\n",
       "</style>\n",
       "<table border=\"1\" class=\"dataframe\">\n",
       "  <thead>\n",
       "    <tr style=\"text-align: right;\">\n",
       "      <th></th>\n",
       "      <th>Date</th>\n",
       "      <th>Indigenous</th>\n",
       "      <th>Pacific Islander</th>\n",
       "      <th>Black</th>\n",
       "      <th>Latino</th>\n",
       "      <th>White</th>\n",
       "      <th>Asian</th>\n",
       "    </tr>\n",
       "  </thead>\n",
       "  <tbody>\n",
       "    <tr>\n",
       "      <th>0</th>\n",
       "      <td>13-Apr</td>\n",
       "      <td>NaN</td>\n",
       "      <td>NaN</td>\n",
       "      <td>14.0</td>\n",
       "      <td>3.8</td>\n",
       "      <td>4.7</td>\n",
       "      <td>3.5</td>\n",
       "    </tr>\n",
       "    <tr>\n",
       "      <th>1</th>\n",
       "      <td>16-Apr</td>\n",
       "      <td>NaN</td>\n",
       "      <td>NaN</td>\n",
       "      <td>14.2</td>\n",
       "      <td>4.7</td>\n",
       "      <td>4.0</td>\n",
       "      <td>5.1</td>\n",
       "    </tr>\n",
       "    <tr>\n",
       "      <th>2</th>\n",
       "      <td>20-Apr</td>\n",
       "      <td>NaN</td>\n",
       "      <td>NaN</td>\n",
       "      <td>23.1</td>\n",
       "      <td>9.3</td>\n",
       "      <td>8.6</td>\n",
       "      <td>7.9</td>\n",
       "    </tr>\n",
       "    <tr>\n",
       "      <th>3</th>\n",
       "      <td>23-Apr</td>\n",
       "      <td>NaN</td>\n",
       "      <td>NaN</td>\n",
       "      <td>25.5</td>\n",
       "      <td>10.6</td>\n",
       "      <td>9.4</td>\n",
       "      <td>10.1</td>\n",
       "    </tr>\n",
       "    <tr>\n",
       "      <th>4</th>\n",
       "      <td>27-Apr</td>\n",
       "      <td>NaN</td>\n",
       "      <td>NaN</td>\n",
       "      <td>28.4</td>\n",
       "      <td>11.3</td>\n",
       "      <td>10.7</td>\n",
       "      <td>11.0</td>\n",
       "    </tr>\n",
       "    <tr>\n",
       "      <th>5</th>\n",
       "      <td>30-Apr</td>\n",
       "      <td>NaN</td>\n",
       "      <td>NaN</td>\n",
       "      <td>34.7</td>\n",
       "      <td>14.9</td>\n",
       "      <td>13.1</td>\n",
       "      <td>14.6</td>\n",
       "    </tr>\n",
       "    <tr>\n",
       "      <th>6</th>\n",
       "      <td>4-May</td>\n",
       "      <td>NaN</td>\n",
       "      <td>NaN</td>\n",
       "      <td>37.2</td>\n",
       "      <td>15.9</td>\n",
       "      <td>14.3</td>\n",
       "      <td>16.0</td>\n",
       "    </tr>\n",
       "    <tr>\n",
       "      <th>7</th>\n",
       "      <td>7-May</td>\n",
       "      <td>NaN</td>\n",
       "      <td>NaN</td>\n",
       "      <td>40.9</td>\n",
       "      <td>17.9</td>\n",
       "      <td>15.8</td>\n",
       "      <td>17.9</td>\n",
       "    </tr>\n",
       "    <tr>\n",
       "      <th>8</th>\n",
       "      <td>11-May</td>\n",
       "      <td>NaN</td>\n",
       "      <td>NaN</td>\n",
       "      <td>42.8</td>\n",
       "      <td>19.1</td>\n",
       "      <td>16.6</td>\n",
       "      <td>18.4</td>\n",
       "    </tr>\n",
       "    <tr>\n",
       "      <th>9</th>\n",
       "      <td>19-May</td>\n",
       "      <td>NaN</td>\n",
       "      <td>NaN</td>\n",
       "      <td>50.3</td>\n",
       "      <td>22.9</td>\n",
       "      <td>20.7</td>\n",
       "      <td>22.7</td>\n",
       "    </tr>\n",
       "    <tr>\n",
       "      <th>10</th>\n",
       "      <td>26-May</td>\n",
       "      <td>NaN</td>\n",
       "      <td>NaN</td>\n",
       "      <td>54.6</td>\n",
       "      <td>24.9</td>\n",
       "      <td>22.7</td>\n",
       "      <td>24.3</td>\n",
       "    </tr>\n",
       "    <tr>\n",
       "      <th>11</th>\n",
       "      <td>9-Jun</td>\n",
       "      <td>36.0</td>\n",
       "      <td>NaN</td>\n",
       "      <td>61.6</td>\n",
       "      <td>28.2</td>\n",
       "      <td>26.2</td>\n",
       "      <td>26.3</td>\n",
       "    </tr>\n",
       "    <tr>\n",
       "      <th>12</th>\n",
       "      <td>23-Jun</td>\n",
       "      <td>43.2</td>\n",
       "      <td>32.7</td>\n",
       "      <td>65.8</td>\n",
       "      <td>31.1</td>\n",
       "      <td>28.5</td>\n",
       "      <td>27.7</td>\n",
       "    </tr>\n",
       "    <tr>\n",
       "      <th>13</th>\n",
       "      <td>7-Jul</td>\n",
       "      <td>51.3</td>\n",
       "      <td>40.5</td>\n",
       "      <td>69.7</td>\n",
       "      <td>33.8</td>\n",
       "      <td>30.2</td>\n",
       "      <td>29.3</td>\n",
       "    </tr>\n",
       "    <tr>\n",
       "      <th>14</th>\n",
       "      <td>21-Jul</td>\n",
       "      <td>60.6</td>\n",
       "      <td>48.0</td>\n",
       "      <td>73.7</td>\n",
       "      <td>37.2</td>\n",
       "      <td>32.4</td>\n",
       "      <td>30.7</td>\n",
       "    </tr>\n",
       "  </tbody>\n",
       "</table>\n",
       "</div>"
      ],
      "text/plain": [
       "      Date  Indigenous  Pacific Islander  Black  Latino  White  Asian\n",
       "0   13-Apr         NaN               NaN   14.0     3.8    4.7    3.5\n",
       "1   16-Apr         NaN               NaN   14.2     4.7    4.0    5.1\n",
       "2   20-Apr         NaN               NaN   23.1     9.3    8.6    7.9\n",
       "3   23-Apr         NaN               NaN   25.5    10.6    9.4   10.1\n",
       "4   27-Apr         NaN               NaN   28.4    11.3   10.7   11.0\n",
       "5   30-Apr         NaN               NaN   34.7    14.9   13.1   14.6\n",
       "6    4-May         NaN               NaN   37.2    15.9   14.3   16.0\n",
       "7    7-May         NaN               NaN   40.9    17.9   15.8   17.9\n",
       "8   11-May         NaN               NaN   42.8    19.1   16.6   18.4\n",
       "9   19-May         NaN               NaN   50.3    22.9   20.7   22.7\n",
       "10  26-May         NaN               NaN   54.6    24.9   22.7   24.3\n",
       "11   9-Jun        36.0               NaN   61.6    28.2   26.2   26.3\n",
       "12  23-Jun        43.2              32.7   65.8    31.1   28.5   27.7\n",
       "13   7-Jul        51.3              40.5   69.7    33.8   30.2   29.3\n",
       "14  21-Jul        60.6              48.0   73.7    37.2   32.4   30.7"
      ]
     },
     "execution_count": 47,
     "metadata": {},
     "output_type": "execute_result"
    }
   ],
   "source": [
    "data"
   ]
  },
  {
   "cell_type": "code",
   "execution_count": 64,
   "metadata": {},
   "outputs": [
    {
     "name": "stderr",
     "output_type": "stream",
     "text": [
      "C:\\Users\\daiki\\Anaconda3\\lib\\site-packages\\ipykernel_launcher.py:4: RuntimeWarning: Second argument 'White' is ambiguous: could be a format string but is in 'data'; using as data.  If it was intended as data, set the format string to an empty string to suppress this warning.  If it was intended as a format string, explicitly pass the x-values as well.  Alternatively, rename the entry in 'data'.\n",
      "  after removing the cwd from sys.path.\n",
      "C:\\Users\\daiki\\Anaconda3\\lib\\site-packages\\ipykernel_launcher.py:5: RuntimeWarning: Second argument 'Black' is ambiguous: could be a format string but is in 'data'; using as data.  If it was intended as data, set the format string to an empty string to suppress this warning.  If it was intended as a format string, explicitly pass the x-values as well.  Alternatively, rename the entry in 'data'.\n",
      "  \"\"\"\n"
     ]
    },
    {
     "data": {
      "image/png": "[encoded data removed]",
      "text/plain": [
       "<Figure size 1080x576 with 1 Axes>"
      ]
     },
     "metadata": {
      "needs_background": "light"
     },
     "output_type": "display_data"
    }
   ],
   "source": [
    "# multiple line plot\n",
    "plt.figure(figsize=(15,8))\n",
    "plt.title('Cumulative COVID-19 mortality rates per 100,000', weight=\"bold\", fontsize=20, pad=20)\n",
    "plt.plot('Date', 'White', data=data, marker='o',color='blue')\n",
    "plt.plot('Date', 'Black', data=data, marker='o', color='orange')\n",
    "plt.plot('Date', 'Latino', data=data, marker='o', color='green')\n",
    "plt.plot('Date', 'Asian', data=data, marker='o', color='red')\n",
    "plt.plot('Date', 'Latino', data=data, marker='o', color='grey')\n",
    "plt.plot('Date','Pacific Islander', data=data, marker='o', color='yellow')\n",
    "plt.plot('Date','Indigenous', data=data, marker='o', color='purple')\n",
    "plt.legend()\n",
    "plt.show()"
   ]
  },
  {
   "cell_type": "markdown",
   "metadata": {},
   "source": [
    "## Conclusion\n",
    "\n",
    "By observing the relative COVID-19 death cases, black people are 2.2 times more likely to die compared to white people, and the line graph suggests that the mortality rates of black people are increasing at a faster speed. However, this difference can be caused by chance, so we should conduct a hypothesis test to make conclusions from data. We will be examining this data in detail in \"Categorical data analysis\" and \"Regression analysis\" sections."
   ]
  },
  {
   "cell_type": "markdown",
   "metadata": {},
   "source": [
    "## Things to consider:\n",
    "\n",
    "1. Confounding factor\n",
    "\n",
    "We should examine other factors that might affect COVID-19 cases, such as age group and socioeconomic factors, as race might not be the only reason behind the differences.\n",
    "\n",
    "2. Hypothesis testing\n",
    "\n",
    "We should always conduct a hypothesis test before making conclusions about the data."
   ]
  }
 ],
 "metadata": {
  "kernelspec": {
   "display_name": "Python 3",
   "language": "python",
   "name": "python3"
  },
  "language_info": {
   "codemirror_mode": {
    "name": "ipython",
    "version": 3
   },
   "file_extension": ".py",
   "mimetype": "text/x-python",
   "name": "python",
   "nbconvert_exporter": "python",
   "pygments_lexer": "ipython3",
   "version": "3.6.10"
  }
 },
 "nbformat": 4,
 "nbformat_minor": 4
}
