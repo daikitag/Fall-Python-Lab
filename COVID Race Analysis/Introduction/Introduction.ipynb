{
 "cells": [
  {
   "cell_type": "markdown",
   "metadata": {},
   "source": [
    "# Welcome to Python!"
   ]
  },
  {
   "cell_type": "markdown",
   "metadata": {},
   "source": [
    "<img src=\"Image/logo.png\" width=\"400\" height=\"600\">"
   ]
  },
  {
   "cell_type": "markdown",
   "metadata": {},
   "source": [
    "## Visualizing COVID-19 Cases"
   ]
  },
  {
   "cell_type": "code",
   "execution_count": null,
   "metadata": {},
   "outputs": [],
   "source": [
    "import pandas as pd\n",
    "df = pd.read_csv('data/covid_country.csv')\n",
    "df.index = df['date']\n",
    "del df['date']"
   ]
  },
  {
   "cell_type": "code",
   "execution_count": null,
   "metadata": {},
   "outputs": [],
   "source": [
    "import bar_chart_race as bcr\n",
    "bcr.bar_chart_race(df)"
   ]
  },
  {
   "cell_type": "markdown",
   "metadata": {},
   "source": [
    "## COVID-19 Death Cases by Race"
   ]
  },
  {
   "cell_type": "code",
   "execution_count": null,
   "metadata": {},
   "outputs": [],
   "source": [
    "import pandas as pd\n",
    "import numpy as np\n",
    "import matplotlib.pyplot as plt\n",
    "from scipy.stats import chi2_contingency\n",
    "\n",
    "data = pd.read_csv('Data/race.csv')\n",
    "case = data['Per100,000']\n",
    "data"
   ]
  },
  {
   "cell_type": "code",
   "execution_count": null,
   "metadata": {},
   "outputs": [],
   "source": [
    "fig = plt.figure()\n",
    "ax = fig.add_axes([0,0,1,1])\n",
    "label = ['White','Black','Latin','Asian','AIAN','NHPI','Other']\n",
    "location = [1,2,3,4,5,6,7,8]\n",
    "ax.bar(label, case, alpha=0.5)\n",
    "ax.set_ylabel('Number of deaths per 100,000')\n",
    "ax.set_xlabel('Race/Ethnicity')\n",
    "#ax.set_ylim(0,78000)\n",
    "ax.set_title('Number of COVID-19 deaths per 100,000 Americans', fontweight=\"bold\", fontsize=15, pad=20)\n",
    "\n",
    "ax.spines['right'].set_visible(False)\n",
    "ax.spines['top'].set_visible(False)\n",
    "\n",
    "for a,b in zip(location, np.round(case, decimals=1)):\n",
    "    plt.text(a-1.25, b+1, str(b), color='b', size=14)\n",
    "    \n",
    "plt.grid(axis='y')\n",
    "\n",
    "plt.show()\n",
    "\n",
    "freq = data['Relative'][0:6]\n",
    "fig = plt.figure()\n",
    "ax = fig.add_axes([0,0,1,1])\n",
    "label = ['White','Black','Hispanic','Asian','AIAN','NHPI']\n",
    "\n",
    "\n",
    "ax.barh(label, freq,color=('#c1ba9d','#733d47','#733d47','#733d47','#733d47','#733d47'))\n",
    "ax.invert_yaxis()\n",
    "ax.spines['right'].set_visible(False)\n",
    "ax.spines['top'].set_visible(False)\n",
    "ax.spines['bottom'].set_visible(False)\n",
    "ax.spines['left'].set_visible(False)\n",
    "ax.get_xaxis().set_visible(False)\n",
    "ax.set_yticklabels(label, size=15)\n",
    "ax.set_title('Relative COVID-19 Death Rates', fontweight=\"bold\", fontsize=20)\n",
    "\n",
    "plt.text(0.8,0,'1.0',color='black',va=\"center\",size=15)\n",
    "plt.text(2,1,'2.2',color='white',va=\"center\",size=15)\n",
    "plt.text(1,2,'1.2',color='white',va=\"center\",size=15)\n",
    "plt.text(0.75,3,'0.9',color='white',va=\"center\",size=15)\n",
    "plt.text(1.25,4,'1.4',color='white',va=\"center\",size=15)\n",
    "plt.text(0.76,5,'0.9',color='white',va=\"center\",size=15)\n",
    "\n",
    "plt.show()"
   ]
  },
  {
   "cell_type": "markdown",
   "metadata": {},
   "source": [
    "As we can see, more black people are dying from COVID-19 compared to white people."
   ]
  },
  {
   "cell_type": "markdown",
   "metadata": {},
   "source": [
    "## Diabetes by Race\n",
    "\n",
    "Since we know that diabetes is related with COVID-19 death cases, we will compare diabetes prevalence between African Americans and Whites."
   ]
  },
  {
   "cell_type": "code",
   "execution_count": null,
   "metadata": {},
   "outputs": [],
   "source": [
    "data = pd.read_csv('Data/NHANES.csv')"
   ]
  },
  {
   "cell_type": "code",
   "execution_count": null,
   "metadata": {},
   "outputs": [],
   "source": [
    "data[['Diabetes','Race1']]"
   ]
  },
  {
   "cell_type": "markdown",
   "metadata": {},
   "source": [
    "The original dataset looks like this. We will convert this to a readable dataset."
   ]
  },
  {
   "cell_type": "code",
   "execution_count": null,
   "metadata": {},
   "outputs": [],
   "source": [
    "adult = data[data['Age']>=18]\n",
    "white = adult[adult['Race1'] == 'White']\n",
    "black = adult[adult['Race1']=='Black']\n",
    "\n",
    "diabetes = {'Diabetes': [white['Diabetes'].value_counts()['Yes'], black['Diabetes'].value_counts()['Yes']],\n",
    "           'Not Diabetes': [white['Diabetes'].value_counts()['No'], black['Diabetes'].value_counts()['No']]}\n",
    "\n",
    "df = pd.DataFrame(diabetes, columns = ['Diabetes','Not Diabetes'], index=['White', 'Black'])\n",
    "df['Percentage'] = df['Diabetes']/(df['Diabetes']+df['Not Diabetes']) *100"
   ]
  },
  {
   "cell_type": "code",
   "execution_count": null,
   "metadata": {},
   "outputs": [],
   "source": [
    "df"
   ]
  },
  {
   "cell_type": "code",
   "execution_count": null,
   "metadata": {},
   "outputs": [],
   "source": [
    "fig = plt.figure()\n",
    "ax = fig.add_axes([0,0,1,1])\n",
    "label = ['White','Black']\n",
    "location = [1,2]\n",
    "ax.bar(label, df['Percentage'], alpha=0.5, width=0.5)\n",
    "ax.set_ylabel('Percentage [%]', size=15)\n",
    "ax.set_xlabel('Race/Ethnicity', size=15)\n",
    "ax.set_title('Diabetes Percentage', fontweight=\"bold\", fontsize=15, pad=20)\n",
    "\n",
    "ax.spines['right'].set_visible(False)\n",
    "ax.spines['top'].set_visible(False)\n",
    "\n",
    "for a,b in zip(location, np.round(df['Percentage'], decimals=1)):\n",
    "    plt.text(a-1.1, b+0.2, str(b)+'%', color='b', size=20)\n",
    "    \n",
    "plt.grid(axis='y')\n",
    "\n",
    "plt.show()"
   ]
  },
  {
   "cell_type": "markdown",
   "metadata": {},
   "source": [
    "## Statistical Analysis"
   ]
  },
  {
   "cell_type": "code",
   "execution_count": null,
   "metadata": {},
   "outputs": [],
   "source": [
    "contig_table = pd.DataFrame(diabetes, columns = ['Diabetes','Not Diabetes'], index=['White', 'Black'])\n",
    "\n",
    "chi2, p, dof, expected = chi2_contingency(contig_table)"
   ]
  },
  {
   "cell_type": "code",
   "execution_count": null,
   "metadata": {},
   "outputs": [],
   "source": [
    "print(\"chi2: \",chi2)\n",
    "print(\"P-value: \", p)\n",
    "print(\"Degrees of freedom: \", dof)"
   ]
  },
  {
   "cell_type": "code",
   "execution_count": null,
   "metadata": {},
   "outputs": [],
   "source": [
    "df"
   ]
  },
  {
   "cell_type": "code",
   "execution_count": null,
   "metadata": {},
   "outputs": [],
   "source": [
    "def func(pi, n):\n",
    "    a = pi * (1 - pi) / n\n",
    "    return a\n",
    "\n",
    "white_pi = df['Percentage']['White']/100\n",
    "black_pi = df['Percentage']['Black']/100\n",
    "\n",
    "white_n = df['Diabetes']['White'] + df['Not Diabetes']['White']\n",
    "black_n = df['Diabetes']['Black'] + df['Not Diabetes']['Black']\n",
    "\n",
    "se = np.sqrt(func(white_pi, white_n) + func(black_pi, black_n))\n",
    "\n",
    "low_ci_bound = (black_pi - white_pi) - 1.96*se\n",
    "high_ci_bound = (black_pi - white_pi) + 1.96*se\n",
    "\n",
    "mean_diff_ci = [low_ci_bound, high_ci_bound]\n",
    "print(\"95% CI:\", mean_diff_ci)\n",
    "print(\"Proportion difference: \", black_pi - white_pi)"
   ]
  },
  {
   "cell_type": "code",
   "execution_count": null,
   "metadata": {},
   "outputs": [],
   "source": [
    "white_n + black_n"
   ]
  },
  {
   "cell_type": "markdown",
   "metadata": {},
   "source": [
    "## Report Results\n",
    "\n",
    "<img src=\"Image/diabetes_data.png\" width=500>\n",
    "\n",
    "Previous research suggests that diabetes raises the risk of death from COVID-19. The proportion of diabetes among whites was 8.82%, while the proportion among African Americans was 15.20%. The result from chi-square test of independence indicated that the difference in proportions is significant ($\\chi^2(1, N=5835)=33.128; p < 0.001)$, and the proportion difference was 0.064 (95% CI = [0.039, 0.089]).\n",
    "\n",
    "This suggests that African Americans are more likely to die from COVID-19, because they are more likely to have diabetes compared to whites."
   ]
  },
  {
   "cell_type": "markdown",
   "metadata": {},
   "source": [
    "## Next Steps\n",
    "\n",
    "- The reasons behind diabetes differences\n",
    "- Consider other factors behind COVID-19 death cases\n",
    "\n",
    "We will be conducting this in the future labs."
   ]
  }
 ],
 "metadata": {
  "kernelspec": {
   "display_name": "Python 3",
   "language": "python",
   "name": "python3"
  },
  "language_info": {
   "codemirror_mode": {
    "name": "ipython",
    "version": 3
   },
   "file_extension": ".py",
   "mimetype": "text/x-python",
   "name": "python",
   "nbconvert_exporter": "python",
   "pygments_lexer": "ipython3",
   "version": "3.6.10"
  }
 },
 "nbformat": 4,
 "nbformat_minor": 4
}
